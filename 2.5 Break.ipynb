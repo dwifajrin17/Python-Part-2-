{
 "cells": [
  {
   "cell_type": "markdown",
   "id": "4e17d9f9",
   "metadata": {},
   "source": [
    "Break\n",
    "\n",
    "The break keyword is used to break out a for loop, or a while loop"
   ]
  },
  {
   "cell_type": "code",
   "execution_count": 2,
   "id": "af0da4f5",
   "metadata": {},
   "outputs": [
    {
     "name": "stdout",
     "output_type": "stream",
     "text": [
      "K\n",
      "a\n"
     ]
    }
   ],
   "source": [
    "#example for string\n",
    "\n",
    "for a in \"Kampus Merdeka\":\n",
    "    if a ==\"m\":\n",
    "        break\n",
    "    print(a)"
   ]
  },
  {
   "cell_type": "code",
   "execution_count": 3,
   "id": "18e3d864",
   "metadata": {},
   "outputs": [
    {
     "name": "stdout",
     "output_type": "stream",
     "text": [
      "K\n",
      "a\n",
      "m\n",
      "p\n",
      "u\n",
      "s\n"
     ]
    }
   ],
   "source": [
    "for a in \"Kampus Merdeka\":\n",
    "    if a ==\" \":\n",
    "        break\n",
    "    print(a)"
   ]
  },
  {
   "cell_type": "code",
   "execution_count": 4,
   "id": "b3949179",
   "metadata": {},
   "outputs": [
    {
     "name": "stdout",
     "output_type": "stream",
     "text": [
      "1\n",
      "2\n",
      "3\n",
      "4\n"
     ]
    }
   ],
   "source": [
    "#example for list\n",
    "\n",
    "for a in [1,2,3,4,10,5,6,7,8]:\n",
    "    if a == 10 :\n",
    "        break\n",
    "    print(a) "
   ]
  },
  {
   "cell_type": "code",
   "execution_count": 6,
   "id": "192fc023",
   "metadata": {},
   "outputs": [
    {
     "name": "stdout",
     "output_type": "stream",
     "text": [
      "1\n",
      "2\n",
      "3\n",
      "4\n",
      "5\n",
      "6\n",
      "7\n",
      "8\n",
      "9\n",
      "10\n",
      "11\n",
      "12\n",
      "13\n",
      "14\n",
      "15\n",
      "16\n",
      "17\n",
      "18\n",
      "19\n"
     ]
    }
   ],
   "source": [
    "#example for range\n",
    "\n",
    "for a in range(1,25):\n",
    "    if a == 20:\n",
    "        break\n",
    "    print(a)"
   ]
  },
  {
   "cell_type": "code",
   "execution_count": 7,
   "id": "6d6bb2c7",
   "metadata": {},
   "outputs": [
    {
     "name": "stdout",
     "output_type": "stream",
     "text": [
      "1\n",
      "2 ini genap\n"
     ]
    }
   ],
   "source": [
    "for a in range(1,20):\n",
    "    if a%2 == 0 :\n",
    "        print(\"{} ini genap\".format(a))\n",
    "        break\n",
    "    print(a)"
   ]
  },
  {
   "cell_type": "code",
   "execution_count": null,
   "id": "29a284d7",
   "metadata": {},
   "outputs": [],
   "source": []
  }
 ],
 "metadata": {
  "kernelspec": {
   "display_name": "Python 3 (ipykernel)",
   "language": "python",
   "name": "python3"
  },
  "language_info": {
   "codemirror_mode": {
    "name": "ipython",
    "version": 3
   },
   "file_extension": ".py",
   "mimetype": "text/x-python",
   "name": "python",
   "nbconvert_exporter": "python",
   "pygments_lexer": "ipython3",
   "version": "3.9.12"
  }
 },
 "nbformat": 4,
 "nbformat_minor": 5
}
