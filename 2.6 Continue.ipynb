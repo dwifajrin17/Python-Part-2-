{
 "cells": [
  {
   "cell_type": "markdown",
   "id": "53b33c88",
   "metadata": {},
   "source": [
    "Continue\n",
    "\n",
    "The continue keyword is used to end the current iteration in a for loop (or a while loop), and continues to the next iteration"
   ]
  },
  {
   "cell_type": "code",
   "execution_count": 1,
   "id": "f31b9dae",
   "metadata": {},
   "outputs": [
    {
     "name": "stdout",
     "output_type": "stream",
     "text": [
      "K\n",
      "a\n",
      "m\n",
      "p\n",
      "u\n",
      "s\n",
      " \n",
      "m\n",
      "r\n",
      "d\n",
      "k\n",
      "a\n"
     ]
    }
   ],
   "source": [
    "for a in \"Kampus merdeka\":\n",
    "    if a == \"e\":\n",
    "        continue\n",
    "    print(a)"
   ]
  },
  {
   "cell_type": "code",
   "execution_count": 2,
   "id": "3b15ce4c",
   "metadata": {},
   "outputs": [
    {
     "name": "stdout",
     "output_type": "stream",
     "text": [
      "1\n",
      "2\n",
      "3\n",
      "4\n",
      "a\n",
      "7\n",
      "8\n",
      "b\n",
      "A\n"
     ]
    }
   ],
   "source": [
    "for a in [1,2,3,4,\"a\", 6,7,8, \"b\", \"A\"]:\n",
    "    if a == 6:\n",
    "        continue\n",
    "    print(a)"
   ]
  },
  {
   "cell_type": "code",
   "execution_count": 3,
   "id": "4d6b2063",
   "metadata": {},
   "outputs": [
    {
     "name": "stdout",
     "output_type": "stream",
     "text": [
      "2\n",
      "4\n",
      "6\n",
      "10\n",
      "12\n",
      "14\n",
      "16\n",
      "18\n"
     ]
    }
   ],
   "source": [
    "for a in range (2,20,2):\n",
    "    if a == 8:\n",
    "        continue\n",
    "    print(a)"
   ]
  },
  {
   "cell_type": "code",
   "execution_count": null,
   "id": "8a9945ea",
   "metadata": {},
   "outputs": [],
   "source": []
  }
 ],
 "metadata": {
  "kernelspec": {
   "display_name": "Python 3 (ipykernel)",
   "language": "python",
   "name": "python3"
  },
  "language_info": {
   "codemirror_mode": {
    "name": "ipython",
    "version": 3
   },
   "file_extension": ".py",
   "mimetype": "text/x-python",
   "name": "python",
   "nbconvert_exporter": "python",
   "pygments_lexer": "ipython3",
   "version": "3.9.12"
  }
 },
 "nbformat": 4,
 "nbformat_minor": 5
}
