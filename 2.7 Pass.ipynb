{
 "cells": [
  {
   "cell_type": "markdown",
   "id": "c8f105e1",
   "metadata": {},
   "source": [
    "Pass\n",
    "\n",
    "The pass statement is used as a placeholder for future code\n",
    "\n",
    "When the pass statement is executed, nothing happens, but you avoid getting an error when empty code is not allowed"
   ]
  },
  {
   "cell_type": "code",
   "execution_count": 1,
   "id": "0eded90e",
   "metadata": {},
   "outputs": [
    {
     "name": "stdout",
     "output_type": "stream",
     "text": [
      "peroleh: 8\n",
      "dapat angka 8\n",
      "peroleh: 9\n",
      "dapat angka 9\n",
      "peroleh: z\n"
     ]
    },
    {
     "ename": "ValueError",
     "evalue": "invalid literal for int() with base 10: 'z'",
     "output_type": "error",
     "traceback": [
      "\u001b[1;31m---------------------------------------------------------------------------\u001b[0m",
      "\u001b[1;31mValueError\u001b[0m                                Traceback (most recent call last)",
      "Input \u001b[1;32mIn [1]\u001b[0m, in \u001b[0;36m<cell line: 3>\u001b[1;34m()\u001b[0m\n\u001b[0;32m      3\u001b[0m \u001b[38;5;28;01mwhile\u001b[39;00m(n \u001b[38;5;241m!=\u001b[39m \u001b[38;5;124m\"\u001b[39m\u001b[38;5;124mz\u001b[39m\u001b[38;5;124m\"\u001b[39m):\n\u001b[0;32m      4\u001b[0m     n \u001b[38;5;241m=\u001b[39m (\u001b[38;5;28minput\u001b[39m(\u001b[38;5;124m\"\u001b[39m\u001b[38;5;124mperoleh: \u001b[39m\u001b[38;5;124m\"\u001b[39m))\n\u001b[1;32m----> 5\u001b[0m     \u001b[38;5;28mprint\u001b[39m(\u001b[38;5;124m'\u001b[39m\u001b[38;5;124mdapat angka \u001b[39m\u001b[38;5;132;01m{}\u001b[39;00m\u001b[38;5;124m'\u001b[39m\u001b[38;5;241m.\u001b[39mformat(\u001b[38;5;28;43mint\u001b[39;49m\u001b[43m(\u001b[49m\u001b[43mn\u001b[49m\u001b[43m)\u001b[49m))\n",
      "\u001b[1;31mValueError\u001b[0m: invalid literal for int() with base 10: 'z'"
     ]
    }
   ],
   "source": [
    "n = \"\"\n",
    "\n",
    "while(n != \"z\"):\n",
    "    n = (input(\"peroleh: \"))\n",
    "    print('dapat angka {}'.format(int(n)))"
   ]
  },
  {
   "cell_type": "code",
   "execution_count": 3,
   "id": "5dd92a64",
   "metadata": {},
   "outputs": [
    {
     "name": "stdout",
     "output_type": "stream",
     "text": [
      "Get:8\n",
      "Get Number 8\n",
      "Get:9\n",
      "Get Number 9\n",
      "Get:a\n"
     ]
    }
   ],
   "source": [
    "# other example\n",
    "\n",
    "import sys\n",
    "\n",
    "n = ''\n",
    "\n",
    "while(n != \"a\"):\n",
    "    try:\n",
    "        n = (input(\"Get:\"))\n",
    "        print('Get Number {}'.format(int(n)))\n",
    "    except:\n",
    "        if n == \"a\" :\n",
    "            pass\n",
    "        else:\n",
    "            print('There is error in {}'.format(sys.exc_info()[0]))"
   ]
  },
  {
   "cell_type": "code",
   "execution_count": null,
   "id": "595bfc68",
   "metadata": {},
   "outputs": [],
   "source": []
  }
 ],
 "metadata": {
  "kernelspec": {
   "display_name": "Python 3 (ipykernel)",
   "language": "python",
   "name": "python3"
  },
  "language_info": {
   "codemirror_mode": {
    "name": "ipython",
    "version": 3
   },
   "file_extension": ".py",
   "mimetype": "text/x-python",
   "name": "python",
   "nbconvert_exporter": "python",
   "pygments_lexer": "ipython3",
   "version": "3.9.12"
  }
 },
 "nbformat": 4,
 "nbformat_minor": 5
}
