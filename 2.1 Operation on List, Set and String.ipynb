{
 "cells": [
  {
   "cell_type": "markdown",
   "id": "a6a354be",
   "metadata": {},
   "source": [
    "# Operation on List, Set and String"
   ]
  },
  {
   "cell_type": "markdown",
   "id": "26939fa1",
   "metadata": {},
   "source": [
    "1. Len\n",
    "\n",
    "    Return the number of items in a list\n",
    "    \n",
    "    Syntax = len(object)"
   ]
  },
  {
   "cell_type": "code",
   "execution_count": 2,
   "id": "53648c39",
   "metadata": {},
   "outputs": [],
   "source": [
    "#List\n",
    "a = [1,2,3,4,5,6,6,7,7,8,8,9,9]"
   ]
  },
  {
   "cell_type": "code",
   "execution_count": 3,
   "id": "157c3aa9",
   "metadata": {},
   "outputs": [
    {
     "name": "stdout",
     "output_type": "stream",
     "text": [
      "[1, 2, 3, 4, 5, 6, 6, 7, 7, 8, 8, 9, 9]\n"
     ]
    }
   ],
   "source": [
    "print(a)"
   ]
  },
  {
   "cell_type": "code",
   "execution_count": 5,
   "id": "0260ddf3",
   "metadata": {},
   "outputs": [
    {
     "data": {
      "text/plain": [
       "13"
      ]
     },
     "execution_count": 5,
     "metadata": {},
     "output_type": "execute_result"
    }
   ],
   "source": [
    "len(a)"
   ]
  },
  {
   "cell_type": "code",
   "execution_count": 7,
   "id": "5dd3c85a",
   "metadata": {},
   "outputs": [],
   "source": [
    "#Set\n",
    "#For Set, just unique one are counted\n",
    "b = {1,2,3,4,5,6,6,7,7,8,8,9,9}"
   ]
  },
  {
   "cell_type": "code",
   "execution_count": 8,
   "id": "1186b8ed",
   "metadata": {},
   "outputs": [
    {
     "data": {
      "text/plain": [
       "9"
      ]
     },
     "execution_count": 8,
     "metadata": {},
     "output_type": "execute_result"
    }
   ],
   "source": [
    "len(b)"
   ]
  },
  {
   "cell_type": "markdown",
   "id": "cec968b1",
   "metadata": {},
   "source": [
    "2. Max \n",
    "\n",
    "   Return the item with the highest value, if the values are strings, an alphabetically comparison is done\n",
    "   \n",
    "   syntax = max(variabel)\n",
    "   "
   ]
  },
  {
   "cell_type": "code",
   "execution_count": 9,
   "id": "9de8c476",
   "metadata": {},
   "outputs": [],
   "source": [
    "c = [1,2,3,4,5,6,6,7,7,8,8,9,9]"
   ]
  },
  {
   "cell_type": "code",
   "execution_count": 10,
   "id": "f665767d",
   "metadata": {},
   "outputs": [
    {
     "data": {
      "text/plain": [
       "9"
      ]
     },
     "execution_count": 10,
     "metadata": {},
     "output_type": "execute_result"
    }
   ],
   "source": [
    "max(c)"
   ]
  },
  {
   "cell_type": "code",
   "execution_count": 11,
   "id": "4302d0c6",
   "metadata": {},
   "outputs": [],
   "source": [
    "d = [\"Apple\", \"Manggo\", \"Peach\", \"Banana\"]"
   ]
  },
  {
   "cell_type": "code",
   "execution_count": 12,
   "id": "162d93e5",
   "metadata": {},
   "outputs": [
    {
     "data": {
      "text/plain": [
       "'Peach'"
      ]
     },
     "execution_count": 12,
     "metadata": {},
     "output_type": "execute_result"
    }
   ],
   "source": [
    "max(d)"
   ]
  },
  {
   "cell_type": "markdown",
   "id": "66d22f24",
   "metadata": {},
   "source": [
    "3. Min\n",
    "\n",
    "   Return the item with the lowest value, if the values are strings, an alphabetically comparison is done\n",
    "\n",
    "   syntax = min(variabel)"
   ]
  },
  {
   "cell_type": "code",
   "execution_count": 13,
   "id": "6678118a",
   "metadata": {},
   "outputs": [],
   "source": [
    "e = [1,2,3,4,5,6,6,7,7,8,8,9,9]"
   ]
  },
  {
   "cell_type": "code",
   "execution_count": 14,
   "id": "d11d1ad0",
   "metadata": {},
   "outputs": [
    {
     "data": {
      "text/plain": [
       "1"
      ]
     },
     "execution_count": 14,
     "metadata": {},
     "output_type": "execute_result"
    }
   ],
   "source": [
    "min(e)"
   ]
  },
  {
   "cell_type": "code",
   "execution_count": 15,
   "id": "09f029e0",
   "metadata": {},
   "outputs": [],
   "source": [
    "f = [\"Apple\", \"Manggo\", \"Peach\", \"Banana\"]"
   ]
  },
  {
   "cell_type": "code",
   "execution_count": 16,
   "id": "46b53fe5",
   "metadata": {},
   "outputs": [
    {
     "data": {
      "text/plain": [
       "'Apple'"
      ]
     },
     "execution_count": 16,
     "metadata": {},
     "output_type": "execute_result"
    }
   ],
   "source": [
    "min(f)"
   ]
  },
  {
   "cell_type": "markdown",
   "id": "7e52ae1b",
   "metadata": {},
   "source": [
    "4. Count\n",
    "\n",
    "   Returns the number of elements with the specified value\n",
    "   \n",
    "   Syntax = variabel.count(value)"
   ]
  },
  {
   "cell_type": "code",
   "execution_count": 17,
   "id": "0a8902b4",
   "metadata": {},
   "outputs": [],
   "source": [
    "g = [1,2,3,4,5,6,6,7,7,8,8,9,9]"
   ]
  },
  {
   "cell_type": "code",
   "execution_count": 18,
   "id": "47fcee7f",
   "metadata": {},
   "outputs": [
    {
     "data": {
      "text/plain": [
       "2"
      ]
     },
     "execution_count": 18,
     "metadata": {},
     "output_type": "execute_result"
    }
   ],
   "source": [
    "g.count(8)"
   ]
  },
  {
   "cell_type": "code",
   "execution_count": 19,
   "id": "9324e64b",
   "metadata": {},
   "outputs": [
    {
     "data": {
      "text/plain": [
       "1"
      ]
     },
     "execution_count": 19,
     "metadata": {},
     "output_type": "execute_result"
    }
   ],
   "source": [
    "g.count(2)"
   ]
  },
  {
   "cell_type": "code",
   "execution_count": 25,
   "id": "17d2dd72",
   "metadata": {},
   "outputs": [],
   "source": [
    "h = \"I have an apple\""
   ]
  },
  {
   "cell_type": "code",
   "execution_count": 26,
   "id": "5b6bab14",
   "metadata": {},
   "outputs": [
    {
     "data": {
      "text/plain": [
       "3"
      ]
     },
     "execution_count": 26,
     "metadata": {},
     "output_type": "execute_result"
    }
   ],
   "source": [
    "h.count(\"a\")"
   ]
  },
  {
   "cell_type": "markdown",
   "id": "dea1fd5b",
   "metadata": {},
   "source": [
    "5. Combine data in the List\n",
    "\n",
    "   To combine element from variabel in the list you can use \"+\" \n",
    "   \n",
    "   syntax = variabel a + variabel b"
   ]
  },
  {
   "cell_type": "code",
   "execution_count": 28,
   "id": "b6b2157a",
   "metadata": {},
   "outputs": [],
   "source": [
    "i = [1,2,3,4,5,6,6,7,7,8,8,9,9]\n",
    "j = [\"Apple\", \"Manggo\", \"Peach\", \"Banana\"]"
   ]
  },
  {
   "cell_type": "code",
   "execution_count": 29,
   "id": "e23db67d",
   "metadata": {},
   "outputs": [
    {
     "data": {
      "text/plain": [
       "[1, 2, 3, 4, 5, 6, 6, 7, 7, 8, 8, 9, 9, 'Apple', 'Manggo', 'Peach', 'Banana']"
      ]
     },
     "execution_count": 29,
     "metadata": {},
     "output_type": "execute_result"
    }
   ],
   "source": [
    "i+j"
   ]
  },
  {
   "cell_type": "markdown",
   "id": "069ea86e",
   "metadata": {},
   "source": [
    "6. Replication \n",
    "\n",
    "   To write down the element as many as you want you can use \"*\"\n",
    "   \n",
    "   Syntax = Variabel* value"
   ]
  },
  {
   "cell_type": "code",
   "execution_count": 30,
   "id": "50d0c35d",
   "metadata": {},
   "outputs": [],
   "source": [
    "k = [1,2,3,4,5,6,6,7,7,8,8,9,9]\n",
    "l = [\"Apple\", \"Manggo\", \"Peach\", \"Banana\"]"
   ]
  },
  {
   "cell_type": "code",
   "execution_count": 31,
   "id": "3552a1bc",
   "metadata": {},
   "outputs": [
    {
     "data": {
      "text/plain": [
       "[1, 2, 3, 4, 5, 6, 6, 7, 7, 8, 8, 9, 9, 1, 2, 3, 4, 5, 6, 6, 7, 7, 8, 8, 9, 9]"
      ]
     },
     "execution_count": 31,
     "metadata": {},
     "output_type": "execute_result"
    }
   ],
   "source": [
    "k*2"
   ]
  },
  {
   "cell_type": "code",
   "execution_count": 32,
   "id": "63cd273b",
   "metadata": {},
   "outputs": [
    {
     "data": {
      "text/plain": [
       "['Apple',\n",
       " 'Manggo',\n",
       " 'Peach',\n",
       " 'Banana',\n",
       " 'Apple',\n",
       " 'Manggo',\n",
       " 'Peach',\n",
       " 'Banana',\n",
       " 'Apple',\n",
       " 'Manggo',\n",
       " 'Peach',\n",
       " 'Banana',\n",
       " 'Apple',\n",
       " 'Manggo',\n",
       " 'Peach',\n",
       " 'Banana']"
      ]
     },
     "execution_count": 32,
     "metadata": {},
     "output_type": "execute_result"
    }
   ],
   "source": [
    "l*4"
   ]
  },
  {
   "cell_type": "markdown",
   "id": "c028b247",
   "metadata": {},
   "source": [
    "7. In and Not in\n",
    "\n",
    "   In for checking whether a specified value is a constituent element of a sequence \n",
    "   \n",
    "   Not in works exactly the opposite way as the in operator works. It also checks the presence of a specified value inside a given sequence but it’s return values are totally opposite to that of the in operator\n",
    "\n"
   ]
  },
  {
   "cell_type": "code",
   "execution_count": 33,
   "id": "f5152305",
   "metadata": {},
   "outputs": [],
   "source": [
    "m = [1,2,3,4,5,6,6,7,7,8,8,9,9]\n",
    "n = [\"Apple\", \"Manggo\", \"Peach\", \"Banana\"]"
   ]
  },
  {
   "cell_type": "code",
   "execution_count": 34,
   "id": "cd5f0613",
   "metadata": {},
   "outputs": [
    {
     "data": {
      "text/plain": [
       "True"
      ]
     },
     "execution_count": 34,
     "metadata": {},
     "output_type": "execute_result"
    }
   ],
   "source": [
    "9 in m"
   ]
  },
  {
   "cell_type": "code",
   "execution_count": 35,
   "id": "2ee2bcf3",
   "metadata": {},
   "outputs": [
    {
     "data": {
      "text/plain": [
       "False"
      ]
     },
     "execution_count": 35,
     "metadata": {},
     "output_type": "execute_result"
    }
   ],
   "source": [
    "25 in m"
   ]
  },
  {
   "cell_type": "code",
   "execution_count": 36,
   "id": "1db88d4a",
   "metadata": {},
   "outputs": [
    {
     "data": {
      "text/plain": [
       "True"
      ]
     },
     "execution_count": 36,
     "metadata": {},
     "output_type": "execute_result"
    }
   ],
   "source": [
    "13 not in m"
   ]
  },
  {
   "cell_type": "code",
   "execution_count": 38,
   "id": "0ed04a9b",
   "metadata": {},
   "outputs": [
    {
     "data": {
      "text/plain": [
       "True"
      ]
     },
     "execution_count": 38,
     "metadata": {},
     "output_type": "execute_result"
    }
   ],
   "source": [
    "\"Apple\" in n"
   ]
  },
  {
   "cell_type": "code",
   "execution_count": 39,
   "id": "cd386332",
   "metadata": {},
   "outputs": [
    {
     "data": {
      "text/plain": [
       "False"
      ]
     },
     "execution_count": 39,
     "metadata": {},
     "output_type": "execute_result"
    }
   ],
   "source": [
    "\"Guava\" in n"
   ]
  },
  {
   "cell_type": "markdown",
   "id": "017dfde6",
   "metadata": {},
   "source": [
    "8. Give the value for multiple Variabel\n"
   ]
  },
  {
   "cell_type": "code",
   "execution_count": 40,
   "id": "9bcd38cc",
   "metadata": {},
   "outputs": [],
   "source": [
    "hewan = [\"kucing\", \"karnivora\", \"kaki empat\"]"
   ]
  },
  {
   "cell_type": "code",
   "execution_count": 41,
   "id": "37c58713",
   "metadata": {},
   "outputs": [
    {
     "name": "stdout",
     "output_type": "stream",
     "text": [
      "['kucing', 'karnivora', 'kaki empat']\n"
     ]
    }
   ],
   "source": [
    "print(hewan)"
   ]
  },
  {
   "cell_type": "code",
   "execution_count": 42,
   "id": "c446f193",
   "metadata": {},
   "outputs": [],
   "source": [
    "nama = hewan[0]"
   ]
  },
  {
   "cell_type": "code",
   "execution_count": 43,
   "id": "5028bfe0",
   "metadata": {},
   "outputs": [],
   "source": [
    "jenis = hewan [1]"
   ]
  },
  {
   "cell_type": "code",
   "execution_count": 44,
   "id": "6ca711dc",
   "metadata": {},
   "outputs": [],
   "source": [
    "kaki = hewan [2]"
   ]
  },
  {
   "cell_type": "code",
   "execution_count": null,
   "id": "e25382b5",
   "metadata": {},
   "outputs": [],
   "source": [
    "#Element \"Hewan\" give the value as \"nama\""
   ]
  },
  {
   "cell_type": "code",
   "execution_count": 45,
   "id": "696c2ee7",
   "metadata": {},
   "outputs": [
    {
     "name": "stdout",
     "output_type": "stream",
     "text": [
      "kucing\n"
     ]
    }
   ],
   "source": [
    "print(nama)"
   ]
  },
  {
   "cell_type": "code",
   "execution_count": null,
   "id": "514e366b",
   "metadata": {},
   "outputs": [],
   "source": [
    "#when you call the element \"nama\" the value of nama will appear, that is \"kucing\""
   ]
  },
  {
   "cell_type": "code",
   "execution_count": 46,
   "id": "49356798",
   "metadata": {},
   "outputs": [
    {
     "name": "stdout",
     "output_type": "stream",
     "text": [
      "karnivora\n"
     ]
    }
   ],
   "source": [
    "print(jenis)"
   ]
  },
  {
   "cell_type": "code",
   "execution_count": 47,
   "id": "236db11c",
   "metadata": {},
   "outputs": [
    {
     "name": "stdout",
     "output_type": "stream",
     "text": [
      "kaki empat\n"
     ]
    }
   ],
   "source": [
    "print(kaki)"
   ]
  },
  {
   "cell_type": "code",
   "execution_count": null,
   "id": "92d950de",
   "metadata": {},
   "outputs": [],
   "source": [
    "#Second way\n",
    "#it is more easier"
   ]
  },
  {
   "cell_type": "code",
   "execution_count": 48,
   "id": "092b2385",
   "metadata": {},
   "outputs": [],
   "source": [
    "hewan = [\"kucing\", \"karnivora\", \"kaki empat\"]"
   ]
  },
  {
   "cell_type": "code",
   "execution_count": 49,
   "id": "1a71a606",
   "metadata": {},
   "outputs": [],
   "source": [
    "nama, jenis, kaki = hewan"
   ]
  },
  {
   "cell_type": "code",
   "execution_count": 50,
   "id": "57253ae6",
   "metadata": {},
   "outputs": [
    {
     "data": {
      "text/plain": [
       "'karnivora'"
      ]
     },
     "execution_count": 50,
     "metadata": {},
     "output_type": "execute_result"
    }
   ],
   "source": [
    "jenis"
   ]
  },
  {
   "cell_type": "code",
   "execution_count": null,
   "id": "2e25a52f",
   "metadata": {},
   "outputs": [],
   "source": [
    "#when you call the element \"jenis\" the value of jenis will appear, that is \"karnivora\""
   ]
  },
  {
   "cell_type": "markdown",
   "id": "2515bfa4",
   "metadata": {},
   "source": [
    "9. The use of assignments on multi-variables can be swapped\n",
    "\n",
    "    it can be swap if the value is same"
   ]
  },
  {
   "cell_type": "code",
   "execution_count": 52,
   "id": "0414b6dc",
   "metadata": {},
   "outputs": [],
   "source": [
    "wajah, sifat = \"menarik\" , \"baik\""
   ]
  },
  {
   "cell_type": "code",
   "execution_count": 53,
   "id": "b303b55a",
   "metadata": {},
   "outputs": [],
   "source": [
    "wajah, sifat = sifat, wajah"
   ]
  },
  {
   "cell_type": "code",
   "execution_count": 54,
   "id": "f7352945",
   "metadata": {},
   "outputs": [
    {
     "data": {
      "text/plain": [
       "'baik'"
      ]
     },
     "execution_count": 54,
     "metadata": {},
     "output_type": "execute_result"
    }
   ],
   "source": [
    "wajah"
   ]
  },
  {
   "cell_type": "code",
   "execution_count": null,
   "id": "caf360e0",
   "metadata": {},
   "outputs": [],
   "source": []
  }
 ],
 "metadata": {
  "kernelspec": {
   "display_name": "Python 3 (ipykernel)",
   "language": "python",
   "name": "python3"
  },
  "language_info": {
   "codemirror_mode": {
    "name": "ipython",
    "version": 3
   },
   "file_extension": ".py",
   "mimetype": "text/x-python",
   "name": "python",
   "nbconvert_exporter": "python",
   "pygments_lexer": "ipython3",
   "version": "3.9.12"
  }
 },
 "nbformat": 4,
 "nbformat_minor": 5
}
