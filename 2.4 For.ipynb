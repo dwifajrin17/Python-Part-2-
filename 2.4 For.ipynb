{
 "cells": [
  {
   "cell_type": "markdown",
   "id": "accc681d",
   "metadata": {},
   "source": [
    "1. For\n",
    "\n",
    "    For loop in Python is used to iterate over a sequence (list, tuple, string) or other iterable objects"
   ]
  },
  {
   "cell_type": "code",
   "execution_count": 1,
   "id": "1a497c9d",
   "metadata": {},
   "outputs": [
    {
     "name": "stdout",
     "output_type": "stream",
     "text": [
      "huruf k\n",
      "huruf a\n",
      "huruf m\n",
      "huruf p\n",
      "huruf u\n",
      "huruf s\n"
     ]
    }
   ],
   "source": [
    "#Example for string\n",
    "\n",
    "for i in 'kampus':\n",
    "    print(\"huruf {}\". format(i))"
   ]
  },
  {
   "cell_type": "code",
   "execution_count": 2,
   "id": "7679e0c5",
   "metadata": {},
   "outputs": [
    {
     "name": "stdout",
     "output_type": "stream",
     "text": [
      "buah  apel\n",
      "buah  mangga\n",
      "buah  melon\n"
     ]
    }
   ],
   "source": [
    "#Example for List\n",
    "\n",
    "buah = ['apel', 'mangga', 'melon']\n",
    "\n",
    "for i in buah:\n",
    "       print(\"buah \" ,i)"
   ]
  },
  {
   "cell_type": "code",
   "execution_count": 3,
   "id": "d62de356",
   "metadata": {},
   "outputs": [
    {
     "name": "stdout",
     "output_type": "stream",
     "text": [
      "0\n",
      "1\n",
      "2\n",
      "3\n",
      "4\n",
      "5\n",
      "6\n",
      "7\n"
     ]
    }
   ],
   "source": [
    "#Example for range 1 parameter\n",
    "\n",
    "for a in range (8):\n",
    "    print(a)"
   ]
  },
  {
   "cell_type": "code",
   "execution_count": 4,
   "id": "34eb90c3",
   "metadata": {},
   "outputs": [
    {
     "name": "stdout",
     "output_type": "stream",
     "text": [
      "8\n",
      "9\n",
      "10\n"
     ]
    }
   ],
   "source": [
    "#Example for range 2 parameter\n",
    "\n",
    "for i in range (8,11):\n",
    "    print(i)"
   ]
  },
  {
   "cell_type": "code",
   "execution_count": 5,
   "id": "6a9be7f7",
   "metadata": {},
   "outputs": [
    {
     "name": "stdout",
     "output_type": "stream",
     "text": [
      "20\n",
      "23\n",
      "26\n"
     ]
    }
   ],
   "source": [
    "#Example for range 3 parameter\n",
    "\n",
    "for b in range (20, 28, 3):\n",
    "    print(b)"
   ]
  },
  {
   "cell_type": "markdown",
   "id": "050cb6f8",
   "metadata": {},
   "source": [
    "2. Nested Loop\n",
    "\n",
    "    A nested loop is a loop inside a loop"
   ]
  },
  {
   "cell_type": "code",
   "execution_count": 6,
   "id": "5b360ad7",
   "metadata": {},
   "outputs": [
    {
     "name": "stdout",
     "output_type": "stream",
     "text": [
      "* * * * \n",
      "* * * \n",
      "* * \n",
      "* \n"
     ]
    }
   ],
   "source": [
    "for row in range(4):\n",
    "    for col in range(4):\n",
    "        if row == 0 and col <=3:\n",
    "            print(\"*\", end = \" \")\n",
    "        elif row == 1 and col <= 2:\n",
    "            print(\"*\", end = \" \")\n",
    "        elif row == 2 and col <= 1:\n",
    "            print(\"*\", end = \" \")\n",
    "        elif row == 3 and col == 0:\n",
    "            print(\"*\", end = \" \")\n",
    "    print()"
   ]
  },
  {
   "cell_type": "code",
   "execution_count": 7,
   "id": "d5c6ebb8",
   "metadata": {},
   "outputs": [
    {
     "name": "stdout",
     "output_type": "stream",
     "text": [
      "red novel\n",
      "red comic\n",
      "red dictionary\n",
      "blue novel\n",
      "blue comic\n",
      "blue dictionary\n",
      "green novel\n",
      "green comic\n",
      "green dictionary\n"
     ]
    }
   ],
   "source": [
    "color = ['red', 'blue', 'green']\n",
    "book = ['novel', 'comic', 'dictionary']\n",
    "\n",
    "for x in color:\n",
    "  for y in book:\n",
    "    print(x, y)"
   ]
  },
  {
   "cell_type": "markdown",
   "id": "3c7e8f99",
   "metadata": {},
   "source": [
    "3. else in loop\n",
    "\n",
    "    - The else keyword in a for loop specifies a block of code to be executed when the loop is finished"
   ]
  },
  {
   "cell_type": "code",
   "execution_count": 1,
   "id": "0aa4482f",
   "metadata": {},
   "outputs": [
    {
     "name": "stdout",
     "output_type": "stream",
     "text": [
      "1 adalah bukan bilangan genap\n",
      "2 adalah bilangan genap\n",
      "3 adalah bukan bilangan genap\n",
      "4 adalah bilangan genap\n",
      "5 adalah bukan bilangan genap\n",
      "6 adalah bilangan genap\n"
     ]
    }
   ],
   "source": [
    "for i in range (1,7):\n",
    "    if i % 2 == 0:\n",
    "        print(\"{} adalah bilangan genap\".format(i))\n",
    "    else:\n",
    "        print(\"{} adalah bukan bilangan genap\".format(i))"
   ]
  },
  {
   "cell_type": "code",
   "execution_count": 2,
   "id": "37177c92",
   "metadata": {},
   "outputs": [
    {
     "name": "stdout",
     "output_type": "stream",
     "text": [
      "5 adalah bilangan kelipatan 5\n",
      "10 adalah bilangan kelipatan 5\n",
      "15 adalah bilangan kelipatan 5\n",
      "20 adalah bilangan kelipatan 5\n",
      "25 adalah bilangan kelipatan 5\n",
      "30 adalah bilangan kelipatan 5\n",
      "35 adalah bilangan kelipatan 5\n",
      "40 adalah bilangan kelipatan 5\n",
      "45 adalah bilangan kelipatan 5\n",
      "50 adalah bilangan kelipatan 5\n",
      "55 adalah bilangan kelipatan 5\n",
      "60 adalah bilangan kelipatan 5\n",
      "65 adalah bilangan kelipatan 5\n",
      "70 adalah bilangan kelipatan 5\n",
      "75 adalah bilangan kelipatan 5\n",
      "80 adalah bilangan kelipatan 5\n",
      "85 adalah bilangan kelipatan 5\n",
      "90 adalah bilangan kelipatan 5\n",
      "95 adalah bilangan kelipatan 5\n",
      "100 adalah bilangan kelipatan 5\n"
     ]
    }
   ],
   "source": [
    "for i in range (5,101,5):\n",
    "    if i * 5 == 0:\n",
    "        print(\"{} adalah bilangan kelipatan 5\".format(i))\n",
    "    else:\n",
    "        print(\"{} adalah bilangan kelipatan 5\".format(i))"
   ]
  },
  {
   "cell_type": "code",
   "execution_count": null,
   "id": "44ab76b3",
   "metadata": {},
   "outputs": [],
   "source": []
  }
 ],
 "metadata": {
  "kernelspec": {
   "display_name": "Python 3 (ipykernel)",
   "language": "python",
   "name": "python3"
  },
  "language_info": {
   "codemirror_mode": {
    "name": "ipython",
    "version": 3
   },
   "file_extension": ".py",
   "mimetype": "text/x-python",
   "name": "python",
   "nbconvert_exporter": "python",
   "pygments_lexer": "ipython3",
   "version": "3.9.12"
  }
 },
 "nbformat": 4,
 "nbformat_minor": 5
}
