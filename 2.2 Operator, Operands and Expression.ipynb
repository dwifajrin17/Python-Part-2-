{
 "cells": [
  {
   "cell_type": "markdown",
   "id": "f8a379ee",
   "metadata": {},
   "source": [
    "1. Arithmetic Operators\n",
    "\n",
    "    (+) Addition\n",
    "\n",
    "    (-) Subtraction\n",
    "\n",
    "    (*) Multiplication\n",
    "\n",
    "    (/) Division\n",
    "\n",
    "    (%) Modulus\n",
    "\n",
    "    (**) Exponent\n",
    "\n",
    "    (//) Floor Division, The division of operands where the result is the quotient in which the digits after the decimal point are removed\n",
    "\n"
   ]
  },
  {
   "cell_type": "code",
   "execution_count": 1,
   "id": "422e3ca9",
   "metadata": {},
   "outputs": [
    {
     "name": "stdout",
     "output_type": "stream",
     "text": [
      "27\n"
     ]
    }
   ],
   "source": [
    "# '25' and '2' are called operands\n",
    "print(25+2)"
   ]
  },
  {
   "cell_type": "code",
   "execution_count": 2,
   "id": "37ac4726",
   "metadata": {},
   "outputs": [
    {
     "name": "stdout",
     "output_type": "stream",
     "text": [
      "748\n"
     ]
    }
   ],
   "source": [
    "print(22*34)"
   ]
  },
  {
   "cell_type": "code",
   "execution_count": 3,
   "id": "43f321f0",
   "metadata": {},
   "outputs": [
    {
     "data": {
      "text/plain": [
       "'kakak'"
      ]
     },
     "execution_count": 3,
     "metadata": {},
     "output_type": "execute_result"
    }
   ],
   "source": [
    "'ka'+'kak'"
   ]
  },
  {
   "cell_type": "code",
   "execution_count": 4,
   "id": "4219b4bf",
   "metadata": {},
   "outputs": [
    {
     "data": {
      "text/plain": [
       "161"
      ]
     },
     "execution_count": 4,
     "metadata": {},
     "output_type": "execute_result"
    }
   ],
   "source": [
    "23*7"
   ]
  },
  {
   "cell_type": "code",
   "execution_count": 5,
   "id": "47c8f944",
   "metadata": {},
   "outputs": [
    {
     "data": {
      "text/plain": [
       "'appleapple'"
      ]
     },
     "execution_count": 5,
     "metadata": {},
     "output_type": "execute_result"
    }
   ],
   "source": [
    "'apple'*2"
   ]
  },
  {
   "cell_type": "code",
   "execution_count": 6,
   "id": "dd7a0804",
   "metadata": {},
   "outputs": [
    {
     "data": {
      "text/plain": [
       "81"
      ]
     },
     "execution_count": 6,
     "metadata": {},
     "output_type": "execute_result"
    }
   ],
   "source": [
    "3**4"
   ]
  },
  {
   "cell_type": "code",
   "execution_count": 7,
   "id": "871eb41e",
   "metadata": {},
   "outputs": [
    {
     "data": {
      "text/plain": [
       "9.0"
      ]
     },
     "execution_count": 7,
     "metadata": {},
     "output_type": "execute_result"
    }
   ],
   "source": [
    "81**0.5"
   ]
  },
  {
   "cell_type": "code",
   "execution_count": 8,
   "id": "584eccc6",
   "metadata": {},
   "outputs": [
    {
     "data": {
      "text/plain": [
       "7.0"
      ]
     },
     "execution_count": 8,
     "metadata": {},
     "output_type": "execute_result"
    }
   ],
   "source": [
    "21/3"
   ]
  },
  {
   "cell_type": "code",
   "execution_count": 9,
   "id": "6fe9f988",
   "metadata": {},
   "outputs": [
    {
     "data": {
      "text/plain": [
       "1"
      ]
     },
     "execution_count": 9,
     "metadata": {},
     "output_type": "execute_result"
    }
   ],
   "source": [
    "10//6"
   ]
  },
  {
   "cell_type": "code",
   "execution_count": 10,
   "id": "bbcb20ad",
   "metadata": {},
   "outputs": [
    {
     "data": {
      "text/plain": [
       "3"
      ]
     },
     "execution_count": 10,
     "metadata": {},
     "output_type": "execute_result"
    }
   ],
   "source": [
    "7%4"
   ]
  },
  {
   "cell_type": "markdown",
   "id": "d6c666df",
   "metadata": {},
   "source": [
    "2. Comparison Operators\n",
    "\n",
    "    (==) equal\n",
    "    \n",
    "    (!=) (<>) not equal\n",
    "    \n",
    "    (>) greater than\n",
    "    \n",
    "    (<) less than\n",
    "    \n",
    "    (>=) greater than or equal to\n",
    "    \n",
    "    (<=) less than or equal to\n",
    "    "
   ]
  },
  {
   "cell_type": "code",
   "execution_count": 11,
   "id": "af8edb2f",
   "metadata": {},
   "outputs": [
    {
     "data": {
      "text/plain": [
       "False"
      ]
     },
     "execution_count": 11,
     "metadata": {},
     "output_type": "execute_result"
    }
   ],
   "source": [
    "22.2 < 3"
   ]
  },
  {
   "cell_type": "code",
   "execution_count": 12,
   "id": "102bc71e",
   "metadata": {},
   "outputs": [
    {
     "data": {
      "text/plain": [
       "True"
      ]
     },
     "execution_count": 12,
     "metadata": {},
     "output_type": "execute_result"
    }
   ],
   "source": [
    "34>10"
   ]
  },
  {
   "cell_type": "code",
   "execution_count": 13,
   "id": "2518c4a5",
   "metadata": {},
   "outputs": [
    {
     "data": {
      "text/plain": [
       "True"
      ]
     },
     "execution_count": 13,
     "metadata": {},
     "output_type": "execute_result"
    }
   ],
   "source": [
    "22 < 33 < 44"
   ]
  },
  {
   "cell_type": "code",
   "execution_count": 14,
   "id": "1f28f14c",
   "metadata": {},
   "outputs": [],
   "source": [
    "a = 34\n",
    "b = 34"
   ]
  },
  {
   "cell_type": "code",
   "execution_count": 15,
   "id": "cef65ea6",
   "metadata": {},
   "outputs": [
    {
     "data": {
      "text/plain": [
       "True"
      ]
     },
     "execution_count": 15,
     "metadata": {},
     "output_type": "execute_result"
    }
   ],
   "source": [
    "a <= b"
   ]
  },
  {
   "cell_type": "code",
   "execution_count": 16,
   "id": "a3f43ab7",
   "metadata": {},
   "outputs": [
    {
     "data": {
      "text/plain": [
       "True"
      ]
     },
     "execution_count": 16,
     "metadata": {},
     "output_type": "execute_result"
    }
   ],
   "source": [
    "33 >= 32.3"
   ]
  },
  {
   "cell_type": "code",
   "execution_count": 17,
   "id": "f522258a",
   "metadata": {},
   "outputs": [
    {
     "data": {
      "text/plain": [
       "True"
      ]
     },
     "execution_count": 17,
     "metadata": {},
     "output_type": "execute_result"
    }
   ],
   "source": [
    "2.0 == 2"
   ]
  },
  {
   "cell_type": "code",
   "execution_count": 18,
   "id": "9c255782",
   "metadata": {},
   "outputs": [
    {
     "data": {
      "text/plain": [
       "True"
      ]
     },
     "execution_count": 18,
     "metadata": {},
     "output_type": "execute_result"
    }
   ],
   "source": [
    "2 != 3"
   ]
  },
  {
   "cell_type": "code",
   "execution_count": 19,
   "id": "764835c2",
   "metadata": {},
   "outputs": [],
   "source": [
    "a = 'Ana'\n",
    "b = 'ana'"
   ]
  },
  {
   "cell_type": "code",
   "execution_count": 20,
   "id": "0c78712c",
   "metadata": {},
   "outputs": [
    {
     "data": {
      "text/plain": [
       "False"
      ]
     },
     "execution_count": 20,
     "metadata": {},
     "output_type": "execute_result"
    }
   ],
   "source": [
    "a == b"
   ]
  },
  {
   "cell_type": "code",
   "execution_count": 21,
   "id": "b9cddab9",
   "metadata": {},
   "outputs": [
    {
     "data": {
      "text/plain": [
       "True"
      ]
     },
     "execution_count": 21,
     "metadata": {},
     "output_type": "execute_result"
    }
   ],
   "source": [
    "2 !=3"
   ]
  },
  {
   "cell_type": "markdown",
   "id": "75d6b2d1",
   "metadata": {},
   "source": [
    "3. Boolean AND\n",
    "\n",
    "    - The 'and' keyword is a logical operator, and is used to combine conditional statements\n",
    "\n",
    "    - Both condition must be fullfilled"
   ]
  },
  {
   "cell_type": "code",
   "execution_count": 22,
   "id": "625ab15c",
   "metadata": {},
   "outputs": [],
   "source": [
    "#Medical Test\n",
    "\n",
    "rontgen = True\n",
    "blood_test = True\n",
    "no_rontgen = False\n",
    "no_blood_test = False"
   ]
  },
  {
   "cell_type": "code",
   "execution_count": 23,
   "id": "10ec355a",
   "metadata": {},
   "outputs": [
    {
     "data": {
      "text/plain": [
       "True"
      ]
     },
     "execution_count": 23,
     "metadata": {},
     "output_type": "execute_result"
    }
   ],
   "source": [
    "rontgen and blood_test"
   ]
  },
  {
   "cell_type": "code",
   "execution_count": 24,
   "id": "053943b7",
   "metadata": {},
   "outputs": [
    {
     "data": {
      "text/plain": [
       "False"
      ]
     },
     "execution_count": 24,
     "metadata": {},
     "output_type": "execute_result"
    }
   ],
   "source": [
    "rontgen and no_blood_test"
   ]
  },
  {
   "cell_type": "code",
   "execution_count": 25,
   "id": "481d0202",
   "metadata": {},
   "outputs": [
    {
     "data": {
      "text/plain": [
       "False"
      ]
     },
     "execution_count": 25,
     "metadata": {},
     "output_type": "execute_result"
    }
   ],
   "source": [
    "blood_test and no_rontgen"
   ]
  },
  {
   "cell_type": "code",
   "execution_count": 26,
   "id": "e4274a68",
   "metadata": {},
   "outputs": [
    {
     "data": {
      "text/plain": [
       "False"
      ]
     },
     "execution_count": 26,
     "metadata": {},
     "output_type": "execute_result"
    }
   ],
   "source": [
    "no_rontgen and no_blood_test"
   ]
  },
  {
   "cell_type": "markdown",
   "id": "3458f11e",
   "metadata": {},
   "source": [
    "4. Boolean OR\n",
    "\n",
    "    - The OR keyword is used in a boolean expression to check that there is at least one true\n",
    "\n",
    "    - If both are true, the entire expression is true, if just one side is true the entire expression is true\n",
    "\n",
    "    - Just one condition must be fullfilled"
   ]
  },
  {
   "cell_type": "code",
   "execution_count": 27,
   "id": "7d7b9bbf",
   "metadata": {},
   "outputs": [],
   "source": [
    "#Medical Test\n",
    "\n",
    "free_influenza = True\n",
    "free_covid = True\n",
    "no_free_influenza = False\n",
    "no_free_covid = False"
   ]
  },
  {
   "cell_type": "code",
   "execution_count": 28,
   "id": "904246f9",
   "metadata": {},
   "outputs": [
    {
     "data": {
      "text/plain": [
       "True"
      ]
     },
     "execution_count": 28,
     "metadata": {},
     "output_type": "execute_result"
    }
   ],
   "source": [
    "free_influenza or free_covid"
   ]
  },
  {
   "cell_type": "code",
   "execution_count": 29,
   "id": "0edb4a71",
   "metadata": {},
   "outputs": [
    {
     "data": {
      "text/plain": [
       "True"
      ]
     },
     "execution_count": 29,
     "metadata": {},
     "output_type": "execute_result"
    }
   ],
   "source": [
    "free_influenza or no_free_covid"
   ]
  },
  {
   "cell_type": "code",
   "execution_count": 30,
   "id": "eedd18b7",
   "metadata": {},
   "outputs": [
    {
     "data": {
      "text/plain": [
       "True"
      ]
     },
     "execution_count": 30,
     "metadata": {},
     "output_type": "execute_result"
    }
   ],
   "source": [
    "free_covid or no_free_influenza"
   ]
  },
  {
   "cell_type": "code",
   "execution_count": 31,
   "id": "41637f4d",
   "metadata": {},
   "outputs": [
    {
     "data": {
      "text/plain": [
       "False"
      ]
     },
     "execution_count": 31,
     "metadata": {},
     "output_type": "execute_result"
    }
   ],
   "source": [
    "no_free_influenza or no_free_covid"
   ]
  },
  {
   "cell_type": "markdown",
   "id": "a2b832e8",
   "metadata": {},
   "source": [
    "5. Python Assignment Operators\n",
    "\n",
    "    Short way for arithmatimetic operation\n",
    "\n",
    "    (*) multiplication\n",
    "\n",
    "    (*=) It multiplies right operand with the left operand and assign the result to left operand\n",
    "\n",
    "    (-=) It subtracts right operand from the left operand and assign the result to left operand"
   ]
  },
  {
   "cell_type": "code",
   "execution_count": 32,
   "id": "3e52681a",
   "metadata": {},
   "outputs": [],
   "source": [
    "a = 12*2"
   ]
  },
  {
   "cell_type": "code",
   "execution_count": 33,
   "id": "ced79f08",
   "metadata": {},
   "outputs": [
    {
     "data": {
      "text/plain": [
       "24"
      ]
     },
     "execution_count": 33,
     "metadata": {},
     "output_type": "execute_result"
    }
   ],
   "source": [
    "a"
   ]
  },
  {
   "cell_type": "code",
   "execution_count": 34,
   "id": "e42d2d2b",
   "metadata": {},
   "outputs": [],
   "source": [
    "b = 10"
   ]
  },
  {
   "cell_type": "code",
   "execution_count": 35,
   "id": "661ef683",
   "metadata": {},
   "outputs": [
    {
     "data": {
      "text/plain": [
       "10"
      ]
     },
     "execution_count": 35,
     "metadata": {},
     "output_type": "execute_result"
    }
   ],
   "source": [
    "b"
   ]
  },
  {
   "cell_type": "code",
   "execution_count": 36,
   "id": "081db944",
   "metadata": {},
   "outputs": [],
   "source": [
    "# The value of b multiplies 4\n",
    "b *= 4"
   ]
  },
  {
   "cell_type": "code",
   "execution_count": 37,
   "id": "c56c98f9",
   "metadata": {},
   "outputs": [
    {
     "data": {
      "text/plain": [
       "40"
      ]
     },
     "execution_count": 37,
     "metadata": {},
     "output_type": "execute_result"
    }
   ],
   "source": [
    "b"
   ]
  },
  {
   "cell_type": "code",
   "execution_count": 38,
   "id": "5de5b0db",
   "metadata": {},
   "outputs": [],
   "source": [
    "#example for string\n",
    "\n",
    "c = \"ha\"*4"
   ]
  },
  {
   "cell_type": "code",
   "execution_count": 39,
   "id": "05248acb",
   "metadata": {},
   "outputs": [
    {
     "data": {
      "text/plain": [
       "'hahahaha'"
      ]
     },
     "execution_count": 39,
     "metadata": {},
     "output_type": "execute_result"
    }
   ],
   "source": [
    "c"
   ]
  },
  {
   "cell_type": "markdown",
   "id": "96bba907",
   "metadata": {},
   "source": [
    "6. Precedence of Operators\n",
    "\n",
    "    Python will always evaluate the arithmetic operators first\n",
    "\n",
    "    (** is highest, then multiplication/division, then addition/subtraction)"
   ]
  },
  {
   "cell_type": "code",
   "execution_count": 40,
   "id": "9987d82a",
   "metadata": {},
   "outputs": [
    {
     "data": {
      "text/plain": [
       "12.5"
      ]
     },
     "execution_count": 40,
     "metadata": {},
     "output_type": "execute_result"
    }
   ],
   "source": [
    "10+5/2"
   ]
  },
  {
   "cell_type": "code",
   "execution_count": 41,
   "id": "ec709cf0",
   "metadata": {},
   "outputs": [
    {
     "data": {
      "text/plain": [
       "12.5"
      ]
     },
     "execution_count": 41,
     "metadata": {},
     "output_type": "execute_result"
    }
   ],
   "source": [
    "#it has the same output if you use ()\n",
    "\n",
    "10 + (5/2)"
   ]
  }
 ],
 "metadata": {
  "kernelspec": {
   "display_name": "Python 3 (ipykernel)",
   "language": "python",
   "name": "python3"
  },
  "language_info": {
   "codemirror_mode": {
    "name": "ipython",
    "version": 3
   },
   "file_extension": ".py",
   "mimetype": "text/x-python",
   "name": "python",
   "nbconvert_exporter": "python",
   "pygments_lexer": "ipython3",
   "version": "3.9.12"
  }
 },
 "nbformat": 4,
 "nbformat_minor": 5
}
