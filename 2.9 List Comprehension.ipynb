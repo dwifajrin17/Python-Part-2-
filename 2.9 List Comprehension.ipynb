{
 "cells": [
  {
   "cell_type": "markdown",
   "id": "84b84b46",
   "metadata": {},
   "source": [
    "List Comprehension (inline loop and if)\n",
    "\n",
    "List comprehension offers a shorter syntax when you want to create a new list based on the values of an existing list\n",
    "\n"
   ]
  },
  {
   "cell_type": "code",
   "execution_count": 1,
   "id": "f581218e",
   "metadata": {},
   "outputs": [],
   "source": [
    "angka = [2,3,4]"
   ]
  },
  {
   "cell_type": "code",
   "execution_count": 2,
   "id": "06bb5e7e",
   "metadata": {},
   "outputs": [],
   "source": [
    "kubik = []"
   ]
  },
  {
   "cell_type": "code",
   "execution_count": 3,
   "id": "5fa539db",
   "metadata": {},
   "outputs": [
    {
     "name": "stdout",
     "output_type": "stream",
     "text": [
      "[8, 27, 64]\n"
     ]
    }
   ],
   "source": [
    "for a in angka:\n",
    "    kubik.append(a**3)\n",
    "print(kubik)"
   ]
  },
  {
   "cell_type": "markdown",
   "id": "5785161d",
   "metadata": {},
   "source": [
    "- another syntax\n",
    "\n",
    "    new list = [expression for_loop_one_or_more_condition]"
   ]
  },
  {
   "cell_type": "code",
   "execution_count": 4,
   "id": "e8fde4d8",
   "metadata": {},
   "outputs": [],
   "source": [
    "angka = [2,3,4]"
   ]
  },
  {
   "cell_type": "code",
   "execution_count": 5,
   "id": "77693c48",
   "metadata": {},
   "outputs": [],
   "source": [
    "kuadrat = [i**2 for i in angka]"
   ]
  },
  {
   "cell_type": "code",
   "execution_count": 6,
   "id": "59fe3dff",
   "metadata": {},
   "outputs": [
    {
     "name": "stdout",
     "output_type": "stream",
     "text": [
      "[4, 9, 16]\n"
     ]
    }
   ],
   "source": [
    "print(kuadrat)"
   ]
  },
  {
   "cell_type": "code",
   "execution_count": 7,
   "id": "14d0351d",
   "metadata": {},
   "outputs": [],
   "source": [
    "b = [8,18,28,38]"
   ]
  },
  {
   "cell_type": "code",
   "execution_count": 8,
   "id": "02d0ceba",
   "metadata": {},
   "outputs": [],
   "source": [
    "b2 = []"
   ]
  },
  {
   "cell_type": "code",
   "execution_count": 9,
   "id": "07cdebbc",
   "metadata": {},
   "outputs": [
    {
     "name": "stdout",
     "output_type": "stream",
     "text": [
      "[10, 20, 30, 40]\n"
     ]
    }
   ],
   "source": [
    "for i in b:\n",
    "    b2.append(i+2)\n",
    "print(b2)"
   ]
  },
  {
   "cell_type": "code",
   "execution_count": 10,
   "id": "ba0a9a32",
   "metadata": {},
   "outputs": [],
   "source": [
    "b2 = [i+2 for i in b]"
   ]
  },
  {
   "cell_type": "code",
   "execution_count": 11,
   "id": "275da85a",
   "metadata": {},
   "outputs": [
    {
     "name": "stdout",
     "output_type": "stream",
     "text": [
      "[10, 20, 30, 40]\n"
     ]
    }
   ],
   "source": [
    "print(b2)"
   ]
  },
  {
   "cell_type": "code",
   "execution_count": 12,
   "id": "cf6a856d",
   "metadata": {},
   "outputs": [
    {
     "name": "stdout",
     "output_type": "stream",
     "text": [
      "['c']\n"
     ]
    }
   ],
   "source": [
    "abc = ['a', 'b', 'c']\n",
    "cde = ['c', 'd', 'e']\n",
    "\n",
    "duplikat = []\n",
    "\n",
    "for i in abc:\n",
    "    for j in cde:\n",
    "        if i ==j:\n",
    "            duplikat.append(i)\n",
    "            \n",
    "print(duplikat)"
   ]
  },
  {
   "cell_type": "code",
   "execution_count": 13,
   "id": "ae76503d",
   "metadata": {},
   "outputs": [
    {
     "name": "stdout",
     "output_type": "stream",
     "text": [
      "['c']\n"
     ]
    }
   ],
   "source": [
    "abc = ['a', 'b', 'c']\n",
    "cde = ['c', 'd', 'e']\n",
    "\n",
    "duplikat = [i for i in abc for j in cde if i ==j]\n",
    "\n",
    "print(duplikat)"
   ]
  },
  {
   "cell_type": "code",
   "execution_count": 14,
   "id": "166cd982",
   "metadata": {},
   "outputs": [
    {
     "name": "stdout",
     "output_type": "stream",
     "text": [
      "['KAMPUS', 'MERDEKA']\n"
     ]
    }
   ],
   "source": [
    "a = [\"kampus\", \"merdeka\"]\n",
    "\n",
    "new = [_.upper() for _ in a]\n",
    "\n",
    "print(new)"
   ]
  },
  {
   "cell_type": "code",
   "execution_count": 15,
   "id": "6d224b50",
   "metadata": {},
   "outputs": [
    {
     "name": "stdout",
     "output_type": "stream",
     "text": [
      "1\n",
      "3\n",
      "5\n",
      "7\n"
     ]
    }
   ],
   "source": [
    "for i in range (1,8,2):\n",
    "    print(i)"
   ]
  },
  {
   "cell_type": "code",
   "execution_count": 16,
   "id": "3937f369",
   "metadata": {},
   "outputs": [
    {
     "name": "stdout",
     "output_type": "stream",
     "text": [
      "[[4, 6], [7, 15], [10, 24], [13, 33], [16, 42], [19, 51]]\n"
     ]
    }
   ],
   "source": [
    "b = range(2,20,3)\n",
    "b23 = [[_+2, _*3] for _ in b]\n",
    "print(b23)"
   ]
  }
 ],
 "metadata": {
  "kernelspec": {
   "display_name": "Python 3 (ipykernel)",
   "language": "python",
   "name": "python3"
  },
  "language_info": {
   "codemirror_mode": {
    "name": "ipython",
    "version": 3
   },
   "file_extension": ".py",
   "mimetype": "text/x-python",
   "name": "python",
   "nbconvert_exporter": "python",
   "pygments_lexer": "ipython3",
   "version": "3.9.12"
  }
 },
 "nbformat": 4,
 "nbformat_minor": 5
}
